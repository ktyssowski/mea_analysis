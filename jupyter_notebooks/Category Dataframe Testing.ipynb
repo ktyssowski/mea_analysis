{
 "cells": [
  {
   "cell_type": "code",
   "execution_count": 1,
   "metadata": {
    "collapsed": true
   },
   "outputs": [],
   "source": [
    "%matplotlib inline\n",
    "%load_ext autoreload\n",
    "%autoreload 2"
   ]
  },
  {
   "cell_type": "code",
   "execution_count": 14,
   "metadata": {
    "collapsed": false
   },
   "outputs": [],
   "source": [
    "import pandas as pd\n",
    "import datetime as dt\n",
    "import seaborn as sns\n",
    "from pymea import plotting\n",
    "from pymea import matlab_compatibility as mc\n",
    "from matplotlib import pyplot as plt"
   ]
  },
  {
   "cell_type": "code",
   "execution_count": 42,
   "metadata": {
    "collapsed": true
   },
   "outputs": [],
   "source": [
    "data_path = '/media/sam/hdd1/maestro_recordings/016/016_minute_binsize.csv'\n",
    "start_times_path = '/media/sam/hdd1/maestro_recordings/016/016_start_times.csv'\n",
    "data_table = pd.read_csv(data_path)"
   ]
  },
  {
   "cell_type": "code",
   "execution_count": 43,
   "metadata": {
    "collapsed": false
   },
   "outputs": [],
   "source": [
    "start_times = pd.read_csv(start_times_path)\n",
    "start_times = start_times['Var1'].map(mc.datetime_str_to_datetime)"
   ]
  },
  {
   "cell_type": "code",
   "execution_count": 4,
   "metadata": {
    "collapsed": true
   },
   "outputs": [],
   "source": [
    "def is_even(num):\n",
    "    return num % 2 == 0\n",
    "\n",
    "def ttx_filter(name):\n",
    "    row_num, col_num = mc.get_row_col_number_tuple(name)\n",
    "    return (is_even(row_num) and is_even(col_num)) or not (is_even(row_num) or is_even(col_num))\n",
    "    \n",
    "def no_ttx_filter(name):\n",
    "    row_num, col_num = mc.get_row_col_number_tuple(name)\n",
    "    return(is_even(row_num) and not is_even(col_num)) or (not is_even(row_num) and is_even(col_num))"
   ]
  },
  {
   "cell_type": "code",
   "execution_count": 5,
   "metadata": {
    "collapsed": true
   },
   "outputs": [],
   "source": [
    "filter_dict = {\n",
    "    'ttx': ttx_filter,\n",
    "    'no_ttx': no_ttx_filter\n",
    "}"
   ]
  },
  {
   "cell_type": "code",
   "execution_count": 6,
   "metadata": {
    "collapsed": false
   },
   "outputs": [],
   "source": [
    "condition_mat = plotting.construct_categorized_dataframe(data_table, filter_dict)"
   ]
  },
  {
   "cell_type": "code",
   "execution_count": 12,
   "metadata": {
    "collapsed": true
   },
   "outputs": [],
   "source": [
    "ttx_removal_time = dt.datetime(2017, 4, 28, 11, 56, 12)\n",
    "after_ttx_table = condition_mat.query('time > @ttx_removal_time')"
   ]
  },
  {
   "cell_type": "code",
   "execution_count": 15,
   "metadata": {
    "collapsed": false
   },
   "outputs": [
    {
     "data": {
      "text/plain": [
       "Index([u'condition', u'spike_freq', u'time', u'unit_name'], dtype='object')"
      ]
     },
     "execution_count": 15,
     "metadata": {},
     "output_type": "execute_result"
    }
   ],
   "source": [
    "after_ttx_table.columns"
   ]
  },
  {
   "cell_type": "code",
   "execution_count": 24,
   "metadata": {
    "collapsed": false
   },
   "outputs": [
    {
     "data": {
      "image/png": "[encoded data removed]",
      "text/plain": [
       "<matplotlib.figure.Figure at 0x7f1086dcadd0>"
      ]
     },
     "metadata": {},
     "output_type": "display_data"
    }
   ],
   "source": [
    "mean_freqs_after_removal = after_ttx_table.groupby(('unit_name', 'condition'))['spike_freq'].mean()/60\n",
    "sns.distplot(mean_freqs_after_removal)\n",
    "plt.savefig('spike_freq_dist_after_ttx_rmvl.png')"
   ]
  },
  {
   "cell_type": "code",
   "execution_count": 29,
   "metadata": {
    "collapsed": false
   },
   "outputs": [
    {
     "name": "stdout",
     "output_type": "stream",
     "text": [
      "           unit_name  spike_freq\n",
      "condition                       \n",
      "no_ttx           162         162\n",
      "ttx              139         139\n",
      "232\n",
      "0.770764119601\n"
     ]
    }
   ],
   "source": [
    "print len(mean_freqs_after_removal)\n",
    "print sum(mean_freqs_after_removal > 0)\n",
    "print float(sum(mean_freqs_after_removal > 0))/len(mean_freqs_after_removal)"
   ]
  },
  {
   "cell_type": "code",
   "execution_count": 36,
   "metadata": {
    "collapsed": false
   },
   "outputs": [
    {
     "name": "stdout",
     "output_type": "stream",
     "text": [
      "139\n",
      "101\n",
      "0.726618705036\n"
     ]
    }
   ],
   "source": [
    "ttx_freqs = mean_freqs_after_removal.rename('mean_freq').reset_index().query('condition == \"ttx\"') \n",
    "print len(ttx_freqs)\n",
    "print sum(ttx_freqs['mean_freq'] > 0)\n",
    "print float(sum(ttx_freqs['mean_freq'] > 0))/len(ttx_freqs)"
   ]
  },
  {
   "cell_type": "code",
   "execution_count": 37,
   "metadata": {
    "collapsed": false
   },
   "outputs": [
    {
     "name": "stdout",
     "output_type": "stream",
     "text": [
      "162\n",
      "131\n",
      "0.808641975309\n"
     ]
    }
   ],
   "source": [
    "ttx_freqs = mean_freqs_after_removal.rename('mean_freq').reset_index().query('condition == \"no_ttx\"') \n",
    "print len(ttx_freqs)\n",
    "print sum(ttx_freqs['mean_freq'] > 0)\n",
    "print float(sum(ttx_freqs['mean_freq'] > 0))/len(ttx_freqs)"
   ]
  },
  {
   "cell_type": "code",
   "execution_count": 39,
   "metadata": {
    "collapsed": false
   },
   "outputs": [
    {
     "name": "stderr",
     "output_type": "stream",
     "text": [
      "/home/sam/anaconda2/lib/python2.7/site-packages/ipykernel/__main__.py:2: UserWarning: Boolean Series key will be reindexed to match DataFrame index.\n",
      "  from ipykernel import kernelapp as app\n"
     ]
    },
    {
     "ename": "IndexingError",
     "evalue": "Unalignable boolean Series key provided",
     "output_type": "error",
     "traceback": [
      "\u001b[0;31m---------------------------------------------------------------------------\u001b[0m",
      "\u001b[0;31mIndexingError\u001b[0m                             Traceback (most recent call last)",
      "\u001b[0;32m<ipython-input-39-881bd81e9479>\u001b[0m in \u001b[0;36m<module>\u001b[0;34m()\u001b[0m\n\u001b[1;32m      1\u001b[0m \u001b[0mspike_sums\u001b[0m \u001b[0;34m=\u001b[0m \u001b[0mcondition_mat\u001b[0m\u001b[0;34m.\u001b[0m\u001b[0mgroupby\u001b[0m\u001b[0;34m(\u001b[0m\u001b[0;34m'time'\u001b[0m\u001b[0;34m)\u001b[0m\u001b[0;34m[\u001b[0m\u001b[0;34m'spike_freq'\u001b[0m\u001b[0;34m]\u001b[0m\u001b[0;34m.\u001b[0m\u001b[0msum\u001b[0m\u001b[0;34m(\u001b[0m\u001b[0;34m)\u001b[0m\u001b[0;34m\u001b[0m\u001b[0m\n\u001b[0;32m----> 2\u001b[0;31m \u001b[0mrecording_mat\u001b[0m \u001b[0;34m=\u001b[0m \u001b[0mcondition_mat\u001b[0m\u001b[0;34m[\u001b[0m\u001b[0mspike_sums\u001b[0m \u001b[0;34m>\u001b[0m \u001b[0;36m0\u001b[0m\u001b[0;34m]\u001b[0m\u001b[0;34m\u001b[0m\u001b[0m\n\u001b[0m",
      "\u001b[0;32m/home/sam/anaconda2/lib/python2.7/site-packages/pandas/core/frame.pyc\u001b[0m in \u001b[0;36m__getitem__\u001b[0;34m(self, key)\u001b[0m\n\u001b[1;32m   1989\u001b[0m         \u001b[0;32mif\u001b[0m \u001b[0misinstance\u001b[0m\u001b[0;34m(\u001b[0m\u001b[0mkey\u001b[0m\u001b[0;34m,\u001b[0m \u001b[0;34m(\u001b[0m\u001b[0mSeries\u001b[0m\u001b[0;34m,\u001b[0m \u001b[0mnp\u001b[0m\u001b[0;34m.\u001b[0m\u001b[0mndarray\u001b[0m\u001b[0;34m,\u001b[0m \u001b[0mIndex\u001b[0m\u001b[0;34m,\u001b[0m \u001b[0mlist\u001b[0m\u001b[0;34m)\u001b[0m\u001b[0;34m)\u001b[0m\u001b[0;34m:\u001b[0m\u001b[0;34m\u001b[0m\u001b[0m\n\u001b[1;32m   1990\u001b[0m             \u001b[0;31m# either boolean or fancy integer index\u001b[0m\u001b[0;34m\u001b[0m\u001b[0;34m\u001b[0m\u001b[0m\n\u001b[0;32m-> 1991\u001b[0;31m             \u001b[0;32mreturn\u001b[0m \u001b[0mself\u001b[0m\u001b[0;34m.\u001b[0m\u001b[0m_getitem_array\u001b[0m\u001b[0;34m(\u001b[0m\u001b[0mkey\u001b[0m\u001b[0;34m)\u001b[0m\u001b[0;34m\u001b[0m\u001b[0m\n\u001b[0m\u001b[1;32m   1992\u001b[0m         \u001b[0;32melif\u001b[0m \u001b[0misinstance\u001b[0m\u001b[0;34m(\u001b[0m\u001b[0mkey\u001b[0m\u001b[0;34m,\u001b[0m \u001b[0mDataFrame\u001b[0m\u001b[0;34m)\u001b[0m\u001b[0;34m:\u001b[0m\u001b[0;34m\u001b[0m\u001b[0m\n\u001b[1;32m   1993\u001b[0m             \u001b[0;32mreturn\u001b[0m \u001b[0mself\u001b[0m\u001b[0;34m.\u001b[0m\u001b[0m_getitem_frame\u001b[0m\u001b[0;34m(\u001b[0m\u001b[0mkey\u001b[0m\u001b[0;34m)\u001b[0m\u001b[0;34m\u001b[0m\u001b[0m\n",
      "\u001b[0;32m/home/sam/anaconda2/lib/python2.7/site-packages/pandas/core/frame.pyc\u001b[0m in \u001b[0;36m_getitem_array\u001b[0;34m(self, key)\u001b[0m\n\u001b[1;32m   2029\u001b[0m             \u001b[0;31m# check_bool_indexer will throw exception if Series key cannot\u001b[0m\u001b[0;34m\u001b[0m\u001b[0;34m\u001b[0m\u001b[0m\n\u001b[1;32m   2030\u001b[0m             \u001b[0;31m# be reindexed to match DataFrame rows\u001b[0m\u001b[0;34m\u001b[0m\u001b[0;34m\u001b[0m\u001b[0m\n\u001b[0;32m-> 2031\u001b[0;31m             \u001b[0mkey\u001b[0m \u001b[0;34m=\u001b[0m \u001b[0mcheck_bool_indexer\u001b[0m\u001b[0;34m(\u001b[0m\u001b[0mself\u001b[0m\u001b[0;34m.\u001b[0m\u001b[0mindex\u001b[0m\u001b[0;34m,\u001b[0m \u001b[0mkey\u001b[0m\u001b[0;34m)\u001b[0m\u001b[0;34m\u001b[0m\u001b[0m\n\u001b[0m\u001b[1;32m   2032\u001b[0m             \u001b[0mindexer\u001b[0m \u001b[0;34m=\u001b[0m \u001b[0mkey\u001b[0m\u001b[0;34m.\u001b[0m\u001b[0mnonzero\u001b[0m\u001b[0;34m(\u001b[0m\u001b[0;34m)\u001b[0m\u001b[0;34m[\u001b[0m\u001b[0;36m0\u001b[0m\u001b[0;34m]\u001b[0m\u001b[0;34m\u001b[0m\u001b[0m\n\u001b[1;32m   2033\u001b[0m             \u001b[0;32mreturn\u001b[0m \u001b[0mself\u001b[0m\u001b[0;34m.\u001b[0m\u001b[0mtake\u001b[0m\u001b[0;34m(\u001b[0m\u001b[0mindexer\u001b[0m\u001b[0;34m,\u001b[0m \u001b[0maxis\u001b[0m\u001b[0;34m=\u001b[0m\u001b[0;36m0\u001b[0m\u001b[0;34m,\u001b[0m \u001b[0mconvert\u001b[0m\u001b[0;34m=\u001b[0m\u001b[0mFalse\u001b[0m\u001b[0;34m)\u001b[0m\u001b[0;34m\u001b[0m\u001b[0m\n",
      "\u001b[0;32m/home/sam/anaconda2/lib/python2.7/site-packages/pandas/core/indexing.pyc\u001b[0m in \u001b[0;36mcheck_bool_indexer\u001b[0;34m(ax, key)\u001b[0m\n\u001b[1;32m   1799\u001b[0m         \u001b[0mmask\u001b[0m \u001b[0;34m=\u001b[0m \u001b[0mcom\u001b[0m\u001b[0;34m.\u001b[0m\u001b[0misnull\u001b[0m\u001b[0;34m(\u001b[0m\u001b[0mresult\u001b[0m\u001b[0;34m.\u001b[0m\u001b[0m_values\u001b[0m\u001b[0;34m)\u001b[0m\u001b[0;34m\u001b[0m\u001b[0m\n\u001b[1;32m   1800\u001b[0m         \u001b[0;32mif\u001b[0m \u001b[0mmask\u001b[0m\u001b[0;34m.\u001b[0m\u001b[0many\u001b[0m\u001b[0;34m(\u001b[0m\u001b[0;34m)\u001b[0m\u001b[0;34m:\u001b[0m\u001b[0;34m\u001b[0m\u001b[0m\n\u001b[0;32m-> 1801\u001b[0;31m             \u001b[0;32mraise\u001b[0m \u001b[0mIndexingError\u001b[0m\u001b[0;34m(\u001b[0m\u001b[0;34m'Unalignable boolean Series key provided'\u001b[0m\u001b[0;34m)\u001b[0m\u001b[0;34m\u001b[0m\u001b[0m\n\u001b[0m\u001b[1;32m   1802\u001b[0m \u001b[0;34m\u001b[0m\u001b[0m\n\u001b[1;32m   1803\u001b[0m         \u001b[0mresult\u001b[0m \u001b[0;34m=\u001b[0m \u001b[0mresult\u001b[0m\u001b[0;34m.\u001b[0m\u001b[0mastype\u001b[0m\u001b[0;34m(\u001b[0m\u001b[0mbool\u001b[0m\u001b[0;34m)\u001b[0m\u001b[0;34m.\u001b[0m\u001b[0m_values\u001b[0m\u001b[0;34m\u001b[0m\u001b[0m\n",
      "\u001b[0;31mIndexingError\u001b[0m: Unalignable boolean Series key provided"
     ]
    }
   ],
   "source": [
    "spike_sums = condition_mat.groupby('time')['spike_freq'].sum()\n",
    "recording_mat = condition_mat[spike_sums > 0]"
   ]
  },
  {
   "cell_type": "code",
   "execution_count": 40,
   "metadata": {
    "collapsed": false
   },
   "outputs": [
    {
     "data": {
      "text/plain": [
       "time\n",
       "2017-04-25 13:15:09    True\n",
       "2017-04-25 13:16:09    True\n",
       "2017-04-25 13:17:09    True\n",
       "2017-04-25 13:18:09    True\n",
       "2017-04-25 13:19:09    True\n",
       "2017-04-25 13:20:09    True\n",
       "2017-04-25 13:21:09    True\n",
       "2017-04-25 13:22:09    True\n",
       "2017-04-25 13:23:09    True\n",
       "2017-04-25 13:24:09    True\n",
       "2017-04-25 13:25:09    True\n",
       "2017-04-25 13:26:09    True\n",
       "2017-04-25 13:27:09    True\n",
       "2017-04-25 13:28:09    True\n",
       "2017-04-25 13:29:09    True\n",
       "2017-04-25 13:30:09    True\n",
       "2017-04-25 13:31:09    True\n",
       "2017-04-25 13:32:09    True\n",
       "2017-04-25 13:33:09    True\n",
       "2017-04-25 13:34:09    True\n",
       "2017-04-25 13:35:09    True\n",
       "2017-04-25 13:36:09    True\n",
       "2017-04-25 13:37:09    True\n",
       "2017-04-25 13:38:09    True\n",
       "2017-04-25 13:39:09    True\n",
       "2017-04-25 13:40:09    True\n",
       "2017-04-25 13:41:09    True\n",
       "2017-04-25 13:42:09    True\n",
       "2017-04-25 13:43:09    True\n",
       "2017-04-25 13:44:09    True\n",
       "                       ... \n",
       "2017-04-30 10:57:09    True\n",
       "2017-04-30 10:58:09    True\n",
       "2017-04-30 10:59:09    True\n",
       "2017-04-30 11:00:09    True\n",
       "2017-04-30 11:01:09    True\n",
       "2017-04-30 11:02:09    True\n",
       "2017-04-30 11:03:09    True\n",
       "2017-04-30 11:04:09    True\n",
       "2017-04-30 11:05:09    True\n",
       "2017-04-30 11:06:09    True\n",
       "2017-04-30 11:07:09    True\n",
       "2017-04-30 11:08:09    True\n",
       "2017-04-30 11:09:09    True\n",
       "2017-04-30 11:10:09    True\n",
       "2017-04-30 11:11:09    True\n",
       "2017-04-30 11:12:09    True\n",
       "2017-04-30 11:13:09    True\n",
       "2017-04-30 11:14:09    True\n",
       "2017-04-30 11:15:09    True\n",
       "2017-04-30 11:16:09    True\n",
       "2017-04-30 11:17:09    True\n",
       "2017-04-30 11:18:09    True\n",
       "2017-04-30 11:19:09    True\n",
       "2017-04-30 11:20:09    True\n",
       "2017-04-30 11:21:09    True\n",
       "2017-04-30 11:22:09    True\n",
       "2017-04-30 11:23:09    True\n",
       "2017-04-30 11:24:09    True\n",
       "2017-04-30 11:25:09    True\n",
       "2017-04-30 11:26:09    True\n",
       "Name: spike_freq, dtype: bool"
      ]
     },
     "execution_count": 40,
     "metadata": {},
     "output_type": "execute_result"
    }
   ],
   "source": [
    "spike_sums > 0"
   ]
  }
 ],
 "metadata": {
  "kernelspec": {
   "display_name": "Python [conda root]",
   "language": "python",
   "name": "conda-root-py"
  },
  "language_info": {
   "codemirror_mode": {
    "name": "ipython",
    "version": 2
   },
   "file_extension": ".py",
   "mimetype": "text/x-python",
   "name": "python",
   "nbconvert_exporter": "python",
   "pygments_lexer": "ipython2",
   "version": "2.7.12"
  }
 },
 "nbformat": 4,
 "nbformat_minor": 1
}
